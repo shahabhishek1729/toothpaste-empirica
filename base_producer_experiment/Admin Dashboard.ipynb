{
 "cells": [
  {
   "cell_type": "markdown",
   "id": "cefbd541",
   "metadata": {},
   "source": [
    "# Bonus \\#3: Decision Traces of Players"
   ]
  },
  {
   "cell_type": "markdown",
   "id": "146a5317",
   "metadata": {},
   "source": [
    "## Step 1: \n",
    "\n",
    "The first step to analyzing Empirica data is to export our data dump and move all our CSV files to a `data/` folder. The statement below executes the following four steps:\n",
    "\n",
    "1. Exports the Empirica data dump into the current directory (will be stored as a .zip file)\n",
    "2. Unzips the file to inflate 8 individual CSV files\n",
    "3. Moves all the CSV files to a `data/` directory\n",
    "4. Removes the original .zip file"
   ]
  },
  {
   "cell_type": "code",
   "execution_count": null,
   "id": "25b4eab6",
   "metadata": {},
   "outputs": [],
   "source": [
    "! empirica export\n",
    "! unzip *.zip\n",
    "! mv *.csv data/\n",
    "! rm *.zip"
   ]
  },
  {
   "cell_type": "markdown",
   "id": "a6b9286c",
   "metadata": {},
   "source": [
    "## Step 2: Data preparation\n",
    "\n",
    "The following code segments set up our imports and file paths, and load in our data.\n",
    "\n",
    "When loading in data, we sort the game data by order of date to determine the most recent game played. We then only look at player data from that specific game."
   ]
  },
  {
   "cell_type": "code",
   "execution_count": 27,
   "id": "08e3d708",
   "metadata": {},
   "outputs": [],
   "source": [
    "import os, sys, gc\n",
    "from pathlib import Path\n",
    "import numpy as np\n",
    "import pandas as pd\n",
    "import matplotlib.pyplot as plt\n",
    "%matplotlib inline\n",
    "\n",
    "import warnings\n",
    "warnings.filterwarnings(\"ignore\")"
   ]
  },
  {
   "cell_type": "code",
   "execution_count": 2,
   "id": "5c4eeee3",
   "metadata": {},
   "outputs": [],
   "source": [
    "base_path = Path(\".\")\n",
    "data_path = base_path / \"data\"\n",
    "\n",
    "games_path = data_path / \"games.csv\"\n",
    "players_path = data_path / \"players.csv\"\n",
    "\n",
    "# Make sure that all paths are valid\n",
    "all_paths = [\n",
    "    base_path,\n",
    "    data_path,\n",
    "    games_path,\n",
    "    players_path,\n",
    "]\n",
    "\n",
    "for path in all_paths:\n",
    "    assert path.exists()"
   ]
  },
  {
   "cell_type": "code",
   "execution_count": 21,
   "id": "aedd45ec",
   "metadata": {
    "scrolled": true
   },
   "outputs": [],
   "source": [
    "def read_and_process_data() -> pd.DataFrame:\n",
    "    players = pd.read_csv(players_path)\n",
    "     \n",
    "    # Get the ID of the most recent completed game\n",
    "    games = pd.read_csv(games_path)\n",
    "    games['statusLastChangedAt'] = pd.to_datetime(games.statusLastChangedAt)\n",
    "    game_id = games \\\n",
    "        .sort_values(by=\"statusLastChangedAt\", ascending=False)['id'] \\\n",
    "        .values[0]\n",
    "    \n",
    "    # Get the data from the latest game and remove all `LastChangesAt` columns which store modification\n",
    "    # information and are not useful to us.\n",
    "    curr_game_info = players[players.gameID == game_id].reset_index(drop=True)\n",
    "    drop_cols = [c for c in curr_game_info.columns if c.endswith('LastChangedAt')]\n",
    "    curr_game_info = curr_game_info.drop(drop_cols, axis = 1)\n",
    "    \n",
    "    # Explode our roundI_choices into 5 columns with each choice, for each I from 1 to 4, inclusive\n",
    "    new_colnames = [\"productionQ\", \"adQ\", \"sellP\", \"makeP\", \"warrantP\"]\n",
    "\n",
    "    for i in range(1, 5):\n",
    "        choices = curr_game_info[f'round{i}_choices'].apply(lambda s: s[1:-1].split(','))\n",
    "        colnames = [f\"round{i}_{c}\" for c in new_colnames]\n",
    "        choices_df = pd.DataFrame(choices.to_list(), columns=colnames)\n",
    "        curr_game_info = pd.concat((curr_game_info, choices_df), axis=1)\n",
    "\n",
    "    curr_game_info = curr_game_info.drop([f'round{i}_choices' for i in range(1, 5)], axis=1)\n",
    "    \n",
    "    filter_colnames = ['productionQ', 'adQ', 'sellP', 'warrantP', 'score']\n",
    "    filter_cols = [f'round{i}_{colname}' for i in range(1, 5) for colname in filter_colnames]\n",
    "\n",
    "    curr_game_choices = curr_game_info[['participantIdentifier'] + filter_cols]\n",
    "    \n",
    "    level2int = {\n",
    "        \"\\\"low\\\"\": 1,\n",
    "        \"\\\"high\\\"\": 2\n",
    "    }\n",
    "    \n",
    "    for i in range(1, 5):\n",
    "        curr_game_choices.loc[:, f'round{i}_productionQ'] = curr_game_choices[f'round{i}_productionQ'].map(level2int)\n",
    "        curr_game_choices.loc[:, f'round{i}_adQ'] = curr_game_choices[f'round{i}_adQ'].map(level2int)    \n",
    "        curr_game_choices[f'round{i}_sellP'] = curr_game_choices[f'round{i}_sellP'].astype(int)\n",
    "        curr_game_choices[f'round{i}_warrantP'] = curr_game_choices[f'round{i}_warrantP'].astype(int)\n",
    "        \n",
    "    curr_game_choices = curr_game_choices.set_index('participantIdentifier', drop=True)\n",
    "        \n",
    "    return curr_game_choices"
   ]
  },
  {
   "cell_type": "code",
   "execution_count": 23,
   "id": "337d3933",
   "metadata": {},
   "outputs": [
    {
     "data": {
      "text/html": [
       "<div>\n",
       "<style scoped>\n",
       "    .dataframe tbody tr th:only-of-type {\n",
       "        vertical-align: middle;\n",
       "    }\n",
       "\n",
       "    .dataframe tbody tr th {\n",
       "        vertical-align: top;\n",
       "    }\n",
       "\n",
       "    .dataframe thead th {\n",
       "        text-align: right;\n",
       "    }\n",
       "</style>\n",
       "<table border=\"1\" class=\"dataframe\">\n",
       "  <thead>\n",
       "    <tr style=\"text-align: right;\">\n",
       "      <th></th>\n",
       "      <th>round1_productionQ</th>\n",
       "      <th>round1_adQ</th>\n",
       "      <th>round1_sellP</th>\n",
       "      <th>round1_warrantP</th>\n",
       "      <th>round1_score</th>\n",
       "      <th>round2_productionQ</th>\n",
       "      <th>round2_adQ</th>\n",
       "      <th>round2_sellP</th>\n",
       "      <th>round2_warrantP</th>\n",
       "      <th>round2_score</th>\n",
       "      <th>round3_productionQ</th>\n",
       "      <th>round3_adQ</th>\n",
       "      <th>round3_sellP</th>\n",
       "      <th>round3_warrantP</th>\n",
       "      <th>round3_score</th>\n",
       "      <th>round4_productionQ</th>\n",
       "      <th>round4_adQ</th>\n",
       "      <th>round4_sellP</th>\n",
       "      <th>round4_warrantP</th>\n",
       "      <th>round4_score</th>\n",
       "    </tr>\n",
       "    <tr>\n",
       "      <th>participantIdentifier</th>\n",
       "      <th></th>\n",
       "      <th></th>\n",
       "      <th></th>\n",
       "      <th></th>\n",
       "      <th></th>\n",
       "      <th></th>\n",
       "      <th></th>\n",
       "      <th></th>\n",
       "      <th></th>\n",
       "      <th></th>\n",
       "      <th></th>\n",
       "      <th></th>\n",
       "      <th></th>\n",
       "      <th></th>\n",
       "      <th></th>\n",
       "      <th></th>\n",
       "      <th></th>\n",
       "      <th></th>\n",
       "      <th></th>\n",
       "      <th></th>\n",
       "    </tr>\n",
       "  </thead>\n",
       "  <tbody>\n",
       "    <tr>\n",
       "      <th>lowPlayer</th>\n",
       "      <td>1</td>\n",
       "      <td>1</td>\n",
       "      <td>10</td>\n",
       "      <td>1000</td>\n",
       "      <td>8005.0</td>\n",
       "      <td>1</td>\n",
       "      <td>1</td>\n",
       "      <td>10</td>\n",
       "      <td>1000</td>\n",
       "      <td>16340.0</td>\n",
       "      <td>1</td>\n",
       "      <td>1</td>\n",
       "      <td>10</td>\n",
       "      <td>1000</td>\n",
       "      <td>18390.0</td>\n",
       "      <td>1</td>\n",
       "      <td>1</td>\n",
       "      <td>10</td>\n",
       "      <td>1000</td>\n",
       "      <td>22840.0</td>\n",
       "    </tr>\n",
       "    <tr>\n",
       "      <th>highPlayer</th>\n",
       "      <td>2</td>\n",
       "      <td>2</td>\n",
       "      <td>15</td>\n",
       "      <td>1000</td>\n",
       "      <td>6284.0</td>\n",
       "      <td>1</td>\n",
       "      <td>2</td>\n",
       "      <td>15</td>\n",
       "      <td>0</td>\n",
       "      <td>6874.0</td>\n",
       "      <td>1</td>\n",
       "      <td>2</td>\n",
       "      <td>15</td>\n",
       "      <td>1000</td>\n",
       "      <td>6264.0</td>\n",
       "      <td>1</td>\n",
       "      <td>1</td>\n",
       "      <td>10</td>\n",
       "      <td>1000</td>\n",
       "      <td>7104.0</td>\n",
       "    </tr>\n",
       "  </tbody>\n",
       "</table>\n",
       "</div>"
      ],
      "text/plain": [
       "                       round1_productionQ  round1_adQ  round1_sellP  \\\n",
       "participantIdentifier                                                 \n",
       "lowPlayer                               1           1            10   \n",
       "highPlayer                              2           2            15   \n",
       "\n",
       "                       round1_warrantP  round1_score  round2_productionQ  \\\n",
       "participantIdentifier                                                      \n",
       "lowPlayer                         1000        8005.0                   1   \n",
       "highPlayer                        1000        6284.0                   1   \n",
       "\n",
       "                       round2_adQ  round2_sellP  round2_warrantP  \\\n",
       "participantIdentifier                                              \n",
       "lowPlayer                       1            10             1000   \n",
       "highPlayer                      2            15                0   \n",
       "\n",
       "                       round2_score  round3_productionQ  round3_adQ  \\\n",
       "participantIdentifier                                                 \n",
       "lowPlayer                   16340.0                   1           1   \n",
       "highPlayer                   6874.0                   1           2   \n",
       "\n",
       "                       round3_sellP  round3_warrantP  round3_score  \\\n",
       "participantIdentifier                                                \n",
       "lowPlayer                        10             1000       18390.0   \n",
       "highPlayer                       15             1000        6264.0   \n",
       "\n",
       "                       round4_productionQ  round4_adQ  round4_sellP  \\\n",
       "participantIdentifier                                                 \n",
       "lowPlayer                               1           1            10   \n",
       "highPlayer                              1           1            10   \n",
       "\n",
       "                       round4_warrantP  round4_score  \n",
       "participantIdentifier                                 \n",
       "lowPlayer                         1000       22840.0  \n",
       "highPlayer                        1000        7104.0  "
      ]
     },
     "execution_count": 23,
     "metadata": {},
     "output_type": "execute_result"
    }
   ],
   "source": [
    "curr_game_choices"
   ]
  },
  {
   "cell_type": "markdown",
   "id": "545a07a5",
   "metadata": {},
   "source": [
    "## Step 3: Tracking and Plotting User Choices\n",
    "\n",
    "The following function uses the data processed earlier to plot a user's choices over time in each of the following quantities:\n",
    "\n",
    "* Production quality (low or high)\n",
    "* Advertised quality (low or high)\n",
    "* Selling Price (\\\\$10 or \\\\$15)\n",
    "* Warrant Price (no warrant or \\\\$1,000)\n",
    "\n",
    "This function takes in the following parameters:\n",
    "* `value_col`: The column in the original data to track (one of either `productionQ`, `adQ`, `sellP`, or `warrantP`, in the order described above)\n",
    "* `value_name`: The label to use to title the graph (e.g., \"Production quality\" for `productionQ`)\n",
    "* `y_tick_vals`: The tick values to draw on the Y-axis in the plot. Unless specified, `[1, 2]` will be used\n",
    "* `y_tick_labels`: The labels to add to the tick values on the Y-axis in the plot. Unless specified, `[\"low\", \"high\"]`, and draws their respective plots"
   ]
  },
  {
   "cell_type": "code",
   "execution_count": 28,
   "id": "7d725fd9",
   "metadata": {},
   "outputs": [],
   "source": [
    "curr_game_choices = read_and_process_data()\n",
    "\n",
    "players = list(curr_game_choices.index.values)\n",
    "\n",
    "def track_and_plot(value_col: str, /, value_name: str, *, \n",
    "                   y_tick_vals: list[int] = [1, 2], \n",
    "                   y_tick_labels: list[str] = [\"Low\", \"High\"]):\n",
    "    values = []\n",
    "\n",
    "    for p in players:\n",
    "        values.append([curr_game_choices.loc[p,][f'round{i}_{value_col}'] for i in range(1, 5)])\n",
    "\n",
    "    data = dict(zip(players, values))\n",
    "\n",
    "    for i, p in enumerate(players):\n",
    "        # 0.4i - 0.2 is a basic function to map 0 to -0.2 and 1 to +0.2, which allows us to offset our paired bars\n",
    "        plt.bar(np.array(range(4)) + 0.4 * i - 0.2, data[p], 0.4, label=p)\n",
    "\n",
    "    plt.xticks([0, 1, 2, 3], [\"Round 1\", \"Round 2\", \"Round 3\", \"Round 4\"])\n",
    "    plt.yticks(y_tick_vals, y_tick_labels)\n",
    "\n",
    "    plt.title(f\"{value_name.capitalize()} through each round\")\n",
    "\n",
    "    plt.legend()\n",
    "    plt.show()"
   ]
  },
  {
   "cell_type": "markdown",
   "id": "cd6caccc",
   "metadata": {},
   "source": [
    "### Examples"
   ]
  },
  {
   "cell_type": "code",
   "execution_count": 8,
   "id": "46537fd1",
   "metadata": {},
   "outputs": [
    {
     "data": {
      "image/png": "[encoded data removed]",
      "text/plain": [
       "<Figure size 640x480 with 1 Axes>"
      ]
     },
     "metadata": {},
     "output_type": "display_data"
    }
   ],
   "source": [
    "# Plotting all users' production quality decisions over time\n",
    "track_and_plot(\"productionQ\", value_name = \"production quality\")"
   ]
  },
  {
   "cell_type": "code",
   "execution_count": 9,
   "id": "049c053b",
   "metadata": {},
   "outputs": [
    {
     "data": {
      "image/png": "[encoded data removed]",
      "text/plain": [
       "<Figure size 640x480 with 1 Axes>"
      ]
     },
     "metadata": {},
     "output_type": "display_data"
    }
   ],
   "source": [
    "# Plotting all users' advertised quality decisions over time\n",
    "track_and_plot(\"adQ\", value_name = \"advertisement quality\")"
   ]
  },
  {
   "cell_type": "code",
   "execution_count": 10,
   "id": "9d86788e",
   "metadata": {},
   "outputs": [
    {
     "data": {
      "image/png": "[encoded data removed]",
      "text/plain": [
       "<Figure size 640x480 with 1 Axes>"
      ]
     },
     "metadata": {},
     "output_type": "display_data"
    }
   ],
   "source": [
    "# Plotting all users' selling price decisions over time\n",
    "track_and_plot(\"sellP\", value_name = \"selling price\", y_tick_vals = [10, 15], y_tick_labels = [\"$10\", \"$15\"])"
   ]
  },
  {
   "cell_type": "code",
   "execution_count": 26,
   "id": "efc713e2",
   "metadata": {},
   "outputs": [
    {
     "data": {
      "image/png": "[encoded data removed]",
      "text/plain": [
       "<Figure size 640x480 with 1 Axes>"
      ]
     },
     "metadata": {},
     "output_type": "display_data"
    }
   ],
   "source": [
    "# Plotting all users' selling price decisions over time\n",
    "track_and_plot(\"warrantP\", value_name = \"warrant added\", y_tick_vals = [-50, 0, 1000], y_tick_labels = [\"\", \"No warrant\", \"$1000 warrant\"])"
   ]
  },
  {
   "cell_type": "code",
   "execution_count": null,
   "id": "03f60042",
   "metadata": {},
   "outputs": [],
   "source": []
  }
 ],
 "metadata": {
  "celltoolbar": "Raw Cell Format",
  "kernelspec": {
   "display_name": "Python 3 (ipykernel)",
   "language": "python",
   "name": "python3"
  },
  "language_info": {
   "codemirror_mode": {
    "name": "ipython",
    "version": 3
   },
   "file_extension": ".py",
   "mimetype": "text/x-python",
   "name": "python",
   "nbconvert_exporter": "python",
   "pygments_lexer": "ipython3",
   "version": "3.11.2"
  }
 },
 "nbformat": 4,
 "nbformat_minor": 5
}
